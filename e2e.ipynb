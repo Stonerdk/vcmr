{
 "cells": [
  {
   "cell_type": "code",
   "execution_count": 4,
   "metadata": {},
   "outputs": [
    {
     "name": "stderr",
     "output_type": "stream",
     "text": [
      "/root/anaconda3/envs/clipenv/lib/python3.10/site-packages/huggingface_hub/file_download.py:797: FutureWarning: `resume_download` is deprecated and will be removed in version 1.0.0. Downloads always resume when possible. If you want to force a new download, use `force_download=True`.\n",
      "  warnings.warn(\n",
      "/root/dev/vcmr/lp-music-caps/lpmc/utils/eval_utils.py:18: FutureWarning: You are using `torch.load` with `weights_only=False` (the current default value), which uses the default pickle module implicitly. It is possible to construct malicious pickle data which will execute arbitrary code during unpickling (See https://github.com/pytorch/pytorch/blob/main/SECURITY.md#untrusted-models for more details). In a future release, the default value for `weights_only` will be flipped to `True`. This limits the functions that could be executed during unpickling. Arbitrary objects will no longer be allowed to be loaded via this mode unless they are explicitly allowlisted by the user via `torch.serialization.add_safe_globals`. We recommend you start setting `weights_only=True` for any use case where you don't have full control of the loaded file. Please open an issue on GitHub for any issues related to this experimental feature.\n",
      "  pretrained_object = torch.load(f'{save_dir}/{model_types}.pth', map_location='cpu')\n"
     ]
    },
    {
     "name": "stdout",
     "output_type": "stream",
     "text": [
      "\n"
     ]
    }
   ],
   "source": [
    "HOME_DIR = \"/root/dev/vcmr\" # 현재 디렉토리\n",
    "\n",
    "import os\n",
    "os.chdir(HOME_DIR)\n",
    "from yt_dlp import YoutubeDL\n",
    "import subprocess\n",
    "from PIL import Image\n",
    "import torch\n",
    "import clip\n",
    "import numpy as np\n",
    "import sys\n",
    "from argparse import Namespace\n",
    "import pandas as pd\n",
    "\n",
    "df = pd.read_csv(\"./Spotify_Youtube.csv\")\n",
    "\n",
    "sys.path.append(f\"{HOME_DIR}/lp-music-caps/lpmc/music_captioning\")\n",
    "\n",
    "ydl_opts = {\n",
    "    'format': 'bestvideo[height<=360]+bestaudio/best[height<=360]/worst',\n",
    "    'quiet': True,\n",
    "    'noplaylist': True,\n",
    "    'skip_download': True,\n",
    "}\n",
    "\n",
    "segments = [\n",
    "    {\n",
    "        'start': '00:00:30',\n",
    "        'duration': '10',\n",
    "        'segment_num': 1,\n",
    "        'frame_time': '00:00:35',\n",
    "    },\n",
    "    {\n",
    "        'start': '00:01:20',\n",
    "        'duration': '10',\n",
    "        'segment_num': 2,\n",
    "        'frame_time': '00:01:25',\n",
    "    },\n",
    "    {\n",
    "        'start': '00:02:10',\n",
    "        'duration': '10',\n",
    "        'segment_num': 3,\n",
    "        'frame_time': '00:02:15',\n",
    "    },\n",
    "]\n",
    "\n",
    "os.chdir(f\"{HOME_DIR}/lp-music-caps/lpmc/music_captioning\")\n",
    "from captioning import captioning, evaluate, evaluate_batch\n",
    "\n",
    "args = Namespace(\n",
    "    gpu=0,\n",
    "    framework=\"pretrain\",\n",
    "    caption_type=\"lp_music_caps\",\n",
    "    max_length=128,\n",
    "    num_beams=5,\n",
    "    model_type=\"pretrain\",\n",
    "    audio_path=\"\"\n",
    ")\n",
    "\n",
    "captioner = captioning(args)\n",
    "captioner = captioner.cuda()\n",
    "os.chdir(HOME_DIR)\n",
    "\n",
    "device = \"cuda\" if torch.cuda.is_available() else \"cpu\"\n",
    "model, preprocess = clip.load(\"ViT-B/32\", device=device)\n",
    "model.eval()\n",
    "print()\n"
   ]
  },
  {
   "cell_type": "code",
   "execution_count": 5,
   "metadata": {},
   "outputs": [],
   "source": [
    "\n",
    "def process_url(url):\n",
    "    try:\n",
    "        image_embeddings = []\n",
    "        audio_embeddings = []\n",
    "        video_id = url.split('=')[-1]\n",
    "\n",
    "        print(\"fetch video info\")\n",
    "        with YoutubeDL(ydl_opts) as ydl:\n",
    "            info_dict = ydl.extract_info(url, download=False)\n",
    "            if 'requested_formats' in info_dict:\n",
    "                video_url = info_dict['requested_formats'][0]['url']\n",
    "                audio_url = info_dict['requested_formats'][1]['url']\n",
    "            else:\n",
    "                video_url = info_dict['url']\n",
    "                audio_url = info_dict['url']\n",
    "\n",
    "        print(\"download segments\")\n",
    "        tags = []\n",
    "        for segment in segments:\n",
    "            segment_num = segment['segment_num']\n",
    "            tag = f\"{video_id}_{segment_num}\"\n",
    "            tags.append(tag)\n",
    "            audio_output = f\"./{tag}.mp3\"\n",
    "            image_output = f\"./{tag}.jpg\"\n",
    "            audio_cmd = [ 'ffmpeg', '-y', '-ss', segment['start'], '-t', segment['duration'], '-i',\n",
    "                        audio_url, '-vn', '-acodec', 'libmp3lame', '-ar', '44100', '-ac', '2', audio_output]\n",
    "            audio_result = subprocess.run(audio_cmd, stdout=subprocess.PIPE, stderr=subprocess.PIPE, text=True)\n",
    "            image_cmd = ['ffmpeg', '-y', '-ss', segment['frame_time'], '-i', video_url, '-frames:v', '1', image_output]\n",
    "            image_result = subprocess.run(image_cmd, stdout=subprocess.PIPE, stderr=subprocess.PIPE, text=True)\n",
    "\n",
    "        print(\"processing images\")\n",
    "        for tag in tags:\n",
    "            image = Image.open(f\"./{tag}.jpg\")\n",
    "            image_input = preprocess(image).unsqueeze(0).to(device)\n",
    "            image_features = model.encode_image(image_input)\n",
    "            image_embeddings.append(image_features)\n",
    "\n",
    "        print(\"processing text\")\n",
    "        for tag in tags:\n",
    "            os.chdir(f\"{HOME_DIR}/lp-music-caps/lpmc/music_captioning\")\n",
    "            args.audio_path = f\"{HOME_DIR}/{tag}.mp3\"\n",
    "            inference = evaluate(captioner, args)\n",
    "            os.chdir(HOME_DIR)\n",
    "            text = clip.tokenize(inference[0], truncate=True).to(device)\n",
    "            with torch.no_grad():\n",
    "                audio_features = model.encode_text(text).cpu().numpy()\n",
    "            audio_embeddings.append(audio_features)\n",
    "\n",
    "        return audio_embeddings\n",
    "    except Exception as e:\n",
    "        print(e)\n",
    "        return None, None\n"
   ]
  },
  {
   "cell_type": "code",
   "execution_count": 6,
   "metadata": {},
   "outputs": [
    {
     "name": "stdout",
     "output_type": "stream",
     "text": [
      "fetch video info\n",
      "download segments\n",
      "processing images\n",
      "processing text\n"
     ]
    },
    {
     "data": {
      "text/plain": [
       "[array([[-0.1783 ,  0.383  , -0.3162 , ..., -0.2053 , -0.017  ,  0.066  ],\n",
       "        [-0.04016,  0.0729 , -0.3345 , ..., -0.408  ,  0.1815 ,  0.1562 ]],\n",
       "       dtype=float16),\n",
       " array([[-0.1783 ,  0.383  , -0.3162 , ..., -0.2053 , -0.017  ,  0.066  ],\n",
       "        [-0.04016,  0.0729 , -0.3345 , ..., -0.408  ,  0.1815 ,  0.1562 ]],\n",
       "       dtype=float16),\n",
       " array([[-0.1783 ,  0.383  , -0.3162 , ..., -0.2053 , -0.017  ,  0.066  ],\n",
       "        [-0.04016,  0.0729 , -0.3345 , ..., -0.408  ,  0.1815 ,  0.1562 ]],\n",
       "       dtype=float16)]"
      ]
     },
     "execution_count": 6,
     "metadata": {},
     "output_type": "execute_result"
    }
   ],
   "source": [
    "process_url(\"https://www.youtube.com/watch?v=ZncbtRo7RXs\")"
   ]
  }
 ],
 "metadata": {
  "kernelspec": {
   "display_name": "clipenv",
   "language": "python",
   "name": "python3"
  },
  "language_info": {
   "codemirror_mode": {
    "name": "ipython",
    "version": 3
   },
   "file_extension": ".py",
   "mimetype": "text/x-python",
   "name": "python",
   "nbconvert_exporter": "python",
   "pygments_lexer": "ipython3",
   "version": "3.10.15"
  }
 },
 "nbformat": 4,
 "nbformat_minor": 2
}
