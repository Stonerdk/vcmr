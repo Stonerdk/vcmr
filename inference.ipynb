{
 "cells": [
  {
   "cell_type": "code",
   "execution_count": null,
   "metadata": {},
   "outputs": [],
   "source": [
    "import os\n",
    "os.chdir(\"/root/dev/vcmr\")\n",
    "\n",
    "import torch\n",
    "from train import ProjectionHead\n",
    "\n",
    "# LOAD MODEL\n",
    "checkpoint = torch.load('./checkpoint_epoch_20.pth')\n",
    "music_proj_state_dict = checkpoint['music_proj_state_dict']\n",
    "model = ProjectionHead(input_dim=512, output_dim=128)\n",
    "model.load_state_dict(music_proj_state_dict)"
   ]
  },
  {
   "cell_type": "code",
   "execution_count": null,
   "metadata": {},
   "outputs": [],
   "source": []
  }
 ],
 "metadata": {
  "kernelspec": {
   "display_name": "clipenv",
   "language": "python",
   "name": "python3"
  },
  "language_info": {
   "codemirror_mode": {
    "name": "ipython",
    "version": 3
   },
   "file_extension": ".py",
   "mimetype": "text/x-python",
   "name": "python",
   "nbconvert_exporter": "python",
   "pygments_lexer": "ipython3",
   "version": "3.10.15"
  }
 },
 "nbformat": 4,
 "nbformat_minor": 2
}
